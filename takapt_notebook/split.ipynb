{
 "cells": [
  {
   "cell_type": "code",
   "execution_count": 1,
   "metadata": {
    "collapsed": false
   },
   "outputs": [
    {
     "name": "stderr",
     "output_type": "stream",
     "text": [
      "/home/takaya/.pyenv/versions/anaconda3-4.3.0/lib/python3.6/site-packages/sklearn/cross_validation.py:44: DeprecationWarning: This module was deprecated in version 0.18 in favor of the model_selection module into which all the refactored classes and functions are moved. Also note that the interface of the new CV iterators are different from that of this module. This module will be removed in 0.20.\n",
      "  \"This module will be removed in 0.20.\", DeprecationWarning)\n"
     ]
    }
   ],
   "source": [
    "import pandas as pd\n",
    "import numpy as np \n",
    "import nltk\n",
    "from collections import Counter\n",
    "from nltk.corpus import stopwords\n",
    "from sklearn.metrics import log_loss\n",
    "from sklearn.feature_extraction.text import TfidfVectorizer, CountVectorizer\n",
    "from scipy.optimize import minimize\n",
    "import xgboost as xgb\n",
    "from sklearn.cross_validation import train_test_split\n",
    "import multiprocessing\n",
    "import difflib"
   ]
  },
  {
   "cell_type": "code",
   "execution_count": 2,
   "metadata": {
    "collapsed": true
   },
   "outputs": [],
   "source": [
    "train = pd.read_csv('../input/train.csv')"
   ]
  },
  {
   "cell_type": "code",
   "execution_count": 3,
   "metadata": {
    "collapsed": true
   },
   "outputs": [],
   "source": [
    "def normalize_question(s):\n",
    "    return str(s).lower().strip()"
   ]
  },
  {
   "cell_type": "code",
   "execution_count": 4,
   "metadata": {
    "collapsed": false
   },
   "outputs": [],
   "source": [
    "questions = train.question1.tolist() + train.question2.tolist()"
   ]
  },
  {
   "cell_type": "code",
   "execution_count": 5,
   "metadata": {
    "collapsed": false
   },
   "outputs": [],
   "source": [
    "uniq_questions_ = set(questions)"
   ]
  },
  {
   "cell_type": "code",
   "execution_count": 6,
   "metadata": {
    "collapsed": false
   },
   "outputs": [
    {
     "data": {
      "text/plain": [
       "537362"
      ]
     },
     "execution_count": 6,
     "metadata": {},
     "output_type": "execute_result"
    }
   ],
   "source": [
    "len(uniq_questions_)"
   ]
  },
  {
   "cell_type": "code",
   "execution_count": 7,
   "metadata": {
    "collapsed": false
   },
   "outputs": [
    {
     "data": {
      "text/plain": [
       "537169"
      ]
     },
     "execution_count": 7,
     "metadata": {},
     "output_type": "execute_result"
    }
   ],
   "source": [
    "uniq_questions = set(map(normalize_question, uniq_questions_))\n",
    "len(uniq_questions)"
   ]
  },
  {
   "cell_type": "code",
   "execution_count": 22,
   "metadata": {
    "collapsed": true
   },
   "outputs": [],
   "source": [
    "def split_train_valid_correctly(train):\n",
    "    from collections import defaultdict\n",
    "    inverted_index = defaultdict(list)\n",
    "    for index, row in train.iterrows():\n",
    "        inverted_index[normalize_question(row['question1'])].append(index)\n",
    "        inverted_index[normalize_question(row['question2'])].append(index)\n",
    "    len(inverted_index)\n",
    "    \n",
    "    import random\n",
    "    rows = list(train.iterrows())\n",
    "    random.seed(0)\n",
    "    random.shuffle(rows)\n",
    "\n",
    "    new_train_indexes = set()\n",
    "    new_train_ratio = 0.7\n",
    "    for index, row in rows:\n",
    "        if len(new_train_indexes) >= len(train) * new_train_ratio:\n",
    "            break\n",
    "\n",
    "        new_train_indexes.update(inverted_index[normalize_question(row['question1'])])\n",
    "        new_train_indexes.update(inverted_index[normalize_question(row['question2'])])\n",
    "\n",
    "    new_valid_indexes = [index for index, row in train.iterrows() if index not in new_train_indexes]\n",
    "\n",
    "    new_train = train.iloc[list(new_train_indexes)]\n",
    "    new_valid = train.iloc[list(new_valid_indexes)]\n",
    "\n",
    "    print('size ratio')\n",
    "    print(len(new_train_indexes) / len(train))\n",
    "    print(len(new_valid_indexes) / len(train))\n",
    "\n",
    "    print('duplicate ratio')\n",
    "    print(sum(train.is_duplicate) / len(train))\n",
    "    print(sum(new_train.is_duplicate) / len(new_train))\n",
    "    print(sum(new_valid.is_duplicate) / len(new_valid))\n",
    "    \n",
    "    return (new_train, new_valid)"
   ]
  },
  {
   "cell_type": "code",
   "execution_count": 25,
   "metadata": {
    "collapsed": false
   },
   "outputs": [],
   "source": [
    "a = set(new_train.id)\n",
    "b = set(new_valid.id)"
   ]
  },
  {
   "cell_type": "code",
   "execution_count": 28,
   "metadata": {
    "collapsed": false
   },
   "outputs": [
    {
     "data": {
      "text/plain": [
       "404290"
      ]
     },
     "execution_count": 28,
     "metadata": {},
     "output_type": "execute_result"
    }
   ],
   "source": [
    "len(a | b)"
   ]
  },
  {
   "cell_type": "code",
   "execution_count": 11,
   "metadata": {
    "collapsed": false
   },
   "outputs": [],
   "source": []
  },
  {
   "cell_type": "code",
   "execution_count": 21,
   "metadata": {
    "collapsed": false
   },
   "outputs": [
    {
     "name": "stdout",
     "output_type": "stream",
     "text": [
      "0.369197853026\n",
      "0.404637127318\n",
      "0.227438564379\n"
     ]
    }
   ],
   "source": []
  }
 ],
 "metadata": {
  "kernelspec": {
   "display_name": "Python 3",
   "language": "python",
   "name": "python3"
  },
  "language_info": {
   "codemirror_mode": {
    "name": "ipython",
    "version": 3
   },
   "file_extension": ".py",
   "mimetype": "text/x-python",
   "name": "python",
   "nbconvert_exporter": "python",
   "pygments_lexer": "ipython3",
   "version": "3.6.0"
  }
 },
 "nbformat": 4,
 "nbformat_minor": 2
}
