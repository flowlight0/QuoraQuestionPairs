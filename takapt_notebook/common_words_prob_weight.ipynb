{
 "cells": [
  {
   "cell_type": "code",
   "execution_count": 1,
   "metadata": {
    "_cell_guid": "4b29202d-9d1b-7272-13e6-c93d408ce5fe",
    "collapsed": false,
    "scrolled": true
   },
   "outputs": [
    {
     "name": "stderr",
     "output_type": "stream",
     "text": [
      "/home/takaya/.pyenv/versions/anaconda3-4.3.0/lib/python3.6/site-packages/sklearn/cross_validation.py:44: DeprecationWarning: This module was deprecated in version 0.18 in favor of the model_selection module into which all the refactored classes and functions are moved. Also note that the interface of the new CV iterators are different from that of this module. This module will be removed in 0.20.\n",
      "  \"This module will be removed in 0.20.\", DeprecationWarning)\n"
     ]
    }
   ],
   "source": [
    "import pandas as pd\n",
    "import numpy as np\n",
    "import nltk\n",
    "from collections import Counter\n",
    "from nltk.corpus import stopwords\n",
    "from sklearn.metrics import log_loss\n",
    "from sklearn.feature_extraction.text import TfidfVectorizer, CountVectorizer\n",
    "from scipy.optimize import minimize\n",
    "stops = set(stopwords.words(\"english\"))\n",
    "import xgboost as xgb\n",
    "from sklearn.cross_validation import train_test_split\n",
    "import multiprocessing\n",
    "import difflib"
   ]
  },
  {
   "cell_type": "code",
   "execution_count": 2,
   "metadata": {
    "collapsed": true
   },
   "outputs": [],
   "source": [
    "features = [\n",
    "#     'clean_q1_tokenized',\n",
    "#     'clean_q2_tokenized',\n",
    "#     'clean_q1_stem',\n",
    "#     'clean_q2_stem',\n",
    "#     'clean_q1_pos_tagged',\n",
    "#     'clean_q2_pos_tagged',\n",
    "#     'clean_q1_lemmatized',\n",
    "#     'clean_q2_lemmatized',\n",
    "    'clean_q1_lemmatized_stem',\n",
    "    'clean_q2_lemmatized_stem'\n",
    "]"
   ]
  },
  {
   "cell_type": "code",
   "execution_count": 3,
   "metadata": {
    "collapsed": true
   },
   "outputs": [],
   "source": [
    "def read_data(t, features):\n",
    "    data = pd.read_csv('../input/{}.csv'.format(t))\n",
    "    for feature in features:\n",
    "        data = pd.merge(data, pd.read_pickle('../feature/{}_{}.pkl'.format(t, feature)))\n",
    "    data.fillna(0.0)\n",
    "    return data"
   ]
  },
  {
   "cell_type": "code",
   "execution_count": 4,
   "metadata": {
    "collapsed": false
   },
   "outputs": [],
   "source": [
    "train = read_data('train', features)#[:1000]\n",
    "test = read_data('test', features)#[:1000]"
   ]
  },
  {
   "cell_type": "code",
   "execution_count": 5,
   "metadata": {
    "collapsed": false
   },
   "outputs": [
    {
     "data": {
      "text/plain": [
       "3677440"
      ]
     },
     "execution_count": 5,
     "metadata": {},
     "output_type": "execute_result"
    }
   ],
   "source": [
    "stems = train.clean_q1_lemmatized_stem.tolist() + train.clean_q2_lemmatized_stem.tolist() + test.clean_q1_lemmatized_stem.tolist() + test.clean_q2_lemmatized_stem.tolist()\n",
    "\n",
    "uniq_stems = set(' '.join(stem) for stem in stems)\n",
    "len(uniq_stems)"
   ]
  },
  {
   "cell_type": "code",
   "execution_count": 6,
   "metadata": {
    "collapsed": false
   },
   "outputs": [],
   "source": [
    "from nltk import FreqDist\n",
    "words = []\n",
    "for s in uniq_stems:\n",
    "    words.extend(set(s.lower().split()))\n",
    "freq = FreqDist(words)"
   ]
  },
  {
   "cell_type": "code",
   "execution_count": 7,
   "metadata": {
    "collapsed": false
   },
   "outputs": [],
   "source": [
    "def get_weight(word):\n",
    "    return 1 - freq[word] / len(uniq_stems)"
   ]
  },
  {
   "cell_type": "code",
   "execution_count": 8,
   "metadata": {
    "collapsed": false
   },
   "outputs": [],
   "source": [
    "def sum_weight_common_words(row):\n",
    "    q1_stem = set(row.clean_q1_lemmatized_stem)\n",
    "    q2_stem = set(row.clean_q2_lemmatized_stem)\n",
    "    common_stem = q1_stem & q2_stem\n",
    "    if common_stem:\n",
    "        return sum(get_weight(stem) for stem in common_stem)\n",
    "    else:\n",
    "        return 0"
   ]
  },
  {
   "cell_type": "code",
   "execution_count": null,
   "metadata": {
    "collapsed": true
   },
   "outputs": [],
   "source": [
    "def sum_weight_uncommon_words(row):\n",
    "    q1_stem = set(row.clean_q1_lemmatized_stem)\n",
    "    q2_stem = set(row.clean_q2_lemmatized_stem)\n",
    "    uncommon_stem = q1_stem ^ q2_stem\n",
    "    if uncommon_stem:\n",
    "        return sum(get_weight(stem) for stem in uncommon_stem)\n",
    "    else:\n",
    "        return 0"
   ]
  },
  {
   "cell_type": "code",
   "execution_count": null,
   "metadata": {
    "collapsed": false
   },
   "outputs": [],
   "source": [
    "train['sum_prob_weight_uncommon_words'] = train.apply(sum_weight_uncommon_words, axis=1)\n",
    "test['sum_prob_weight_uncommon_words'] = test.apply(sum_weight_uncommon_words, axis=1)"
   ]
  },
  {
   "cell_type": "code",
   "execution_count": null,
   "metadata": {
    "collapsed": false
   },
   "outputs": [],
   "source": [
    "import matplotlib.pyplot as plt\n",
    "import seaborn as sns\n",
    "%matplotlib inline\n",
    "\n",
    "plt.rcParams['figure.figsize'] = (15.0, 15.0)"
   ]
  },
  {
   "cell_type": "code",
   "execution_count": null,
   "metadata": {
    "collapsed": false,
    "scrolled": false
   },
   "outputs": [],
   "source": [
    "plt.hist(train.sum_prob_weight_uncommon_words[train['is_duplicate'] == 0], bins=20, normed=True, label='0')\n",
    "plt.hist(train.sum_prob_weight_uncommon_words[train['is_duplicate'] == 1], bins=20, normed=True, label='1', alpha=0.7)\n",
    "None"
   ]
  },
  {
   "cell_type": "code",
   "execution_count": null,
   "metadata": {
    "collapsed": true
   },
   "outputs": [],
   "source": [
    "features_to_save = [\n",
    "    'sum_prob_weight_uncommon_words'\n",
    "]"
   ]
  },
  {
   "cell_type": "code",
   "execution_count": null,
   "metadata": {
    "collapsed": false
   },
   "outputs": [],
   "source": [
    "import util\n",
    "util.save_feature(train, 'train', features_to_save, 'id')\n",
    "util.save_feature(test, 'test', features_to_save, 'test_id')"
   ]
  }
 ],
 "metadata": {
  "_change_revision": 43,
  "_is_fork": false,
  "kernelspec": {
   "display_name": "Python 3",
   "language": "python",
   "name": "python3"
  },
  "language_info": {
   "codemirror_mode": {
    "name": "ipython",
    "version": 3
   },
   "file_extension": ".py",
   "mimetype": "text/x-python",
   "name": "python",
   "nbconvert_exporter": "python",
   "pygments_lexer": "ipython3",
   "version": "3.6.0"
  }
 },
 "nbformat": 4,
 "nbformat_minor": 0
}
