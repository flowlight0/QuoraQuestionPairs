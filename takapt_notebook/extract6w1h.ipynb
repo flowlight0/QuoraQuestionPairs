{
 "cells": [
  {
   "cell_type": "code",
   "execution_count": 1,
   "metadata": {
    "collapsed": false
   },
   "outputs": [
    {
     "name": "stderr",
     "output_type": "stream",
     "text": [
      "/home/takaya/.pyenv/versions/anaconda3-4.3.0/lib/python3.6/site-packages/sklearn/cross_validation.py:44: DeprecationWarning: This module was deprecated in version 0.18 in favor of the model_selection module into which all the refactored classes and functions are moved. Also note that the interface of the new CV iterators are different from that of this module. This module will be removed in 0.20.\n",
      "  \"This module will be removed in 0.20.\", DeprecationWarning)\n"
     ]
    }
   ],
   "source": [
    "import pandas as pd\n",
    "import numpy as np\n",
    "import nltk\n",
    "from collections import Counter\n",
    "from nltk.corpus import stopwords\n",
    "from sklearn.metrics import log_loss\n",
    "from sklearn.feature_extraction.text import TfidfVectorizer, CountVectorizer\n",
    "from scipy.optimize import minimize\n",
    "stops = set(stopwords.words(\"english\"))\n",
    "import xgboost as xgb\n",
    "from sklearn.cross_validation import train_test_split\n",
    "import multiprocessing\n",
    "import difflib\n",
    "\n",
    "train = pd.read_csv('../input/train.csv')#[:100]\n",
    "test = pd.read_csv('../input/test.csv')#[:100]"
   ]
  },
  {
   "cell_type": "code",
   "execution_count": 2,
   "metadata": {
    "collapsed": false
   },
   "outputs": [],
   "source": [
    "def extract_6w1h(data):\n",
    "    for i, row in data.iterrows():\n",
    "        q1_words = str(row['question1']).lower().split()\n",
    "        q2_words = str(row['question2']).lower().split()\n",
    "        \n",
    "        data.set_value(i, 'q1_what', 'what' in q1_words)\n",
    "        data.set_value(i, 'q2_what', 'what' in q2_words)\n",
    "        \n",
    "        data.set_value(i, 'q1_when', 'when' in q1_words)\n",
    "        data.set_value(i, 'q2_when', 'when' in q2_words)\n",
    "        \n",
    "        data.set_value(i, 'q1_why', 'why' in q1_words)\n",
    "        data.set_value(i, 'q2_why', 'why' in q2_words)\n",
    "        \n",
    "        data.set_value(i, 'q1_where', 'where' in q1_words)\n",
    "        data.set_value(i, 'q2_where', 'where' in q2_words)\n",
    "        \n",
    "        data.set_value(i, 'q1_who', 'who' in q1_words)\n",
    "        data.set_value(i, 'q2_who', 'who' in q2_words)\n",
    "        \n",
    "        data.set_value(i, 'q1_which', 'which' in q1_words)\n",
    "        data.set_value(i, 'q2_which', 'which' in q2_words)\n",
    "        \n",
    "        data.set_value(i, 'q1_how', 'how' in q1_words)\n",
    "        data.set_value(i, 'q2_how', 'how' in q2_words)\n",
    "\n",
    "    return data"
   ]
  },
  {
   "cell_type": "code",
   "execution_count": 3,
   "metadata": {
    "collapsed": false
   },
   "outputs": [],
   "source": [
    "train = extract_6w1h(train)\n",
    "test = extract_6w1h(test)"
   ]
  },
  {
   "cell_type": "code",
   "execution_count": 4,
   "metadata": {
    "collapsed": false
   },
   "outputs": [
    {
     "name": "stdout",
     "output_type": "stream",
     "text": [
      "'id',\n",
      "'qid1',\n",
      "'qid2',\n",
      "'question1',\n",
      "'question2',\n",
      "'is_duplicate',\n",
      "'q1_what',\n",
      "'q2_what',\n",
      "'q1_when',\n",
      "'q2_when',\n",
      "'q1_why',\n",
      "'q2_why',\n",
      "'q1_where',\n",
      "'q2_where',\n",
      "'q1_who',\n",
      "'q2_who',\n",
      "'q1_which',\n",
      "'q2_which',\n",
      "'q1_how',\n",
      "'q2_how'\n"
     ]
    }
   ],
   "source": [
    "print(',\\n'.join(map(lambda s: \"'{}'\".format(s), train.columns)))"
   ]
  },
  {
   "cell_type": "code",
   "execution_count": 5,
   "metadata": {
    "collapsed": true
   },
   "outputs": [],
   "source": [
    "features = [\n",
    "    'q1_what',\n",
    "    'q2_what',\n",
    "    'q1_when',\n",
    "    'q2_when',\n",
    "    'q1_why',\n",
    "    'q2_why',\n",
    "    'q1_where',\n",
    "    'q2_where',\n",
    "    'q1_who',\n",
    "    'q2_who',\n",
    "    'q1_which',\n",
    "    'q2_which',\n",
    "    'q1_how',\n",
    "    'q2_how'\n",
    "]"
   ]
  },
  {
   "cell_type": "code",
   "execution_count": 8,
   "metadata": {
    "collapsed": false
   },
   "outputs": [],
   "source": [
    "for feature in features:\n",
    "    train[feature] = train[feature].astype(np.bool)\n",
    "    test[feature] = test[feature].astype(np.bool)"
   ]
  },
  {
   "cell_type": "code",
   "execution_count": 9,
   "metadata": {
    "collapsed": false
   },
   "outputs": [],
   "source": [
    "import util\n",
    "util.save_feature(train, 'train', features, 'id')\n",
    "util.save_feature(test, 'test', features, 'test_id')"
   ]
  },
  {
   "cell_type": "code",
   "execution_count": 15,
   "metadata": {
    "collapsed": false
   },
   "outputs": [],
   "source": [
    "ff = [\n",
    "    'what',\n",
    "    'when',\n",
    "    'why',\n",
    "    'where',\n",
    "    'who',\n",
    "    'which',\n",
    "    'how'\n",
    "]\n",
    "for f in ff:\n",
    "    train[f] = train['q1_' + f].astype(np.int8) + train['q2_' + f].astype(np.int8)\n",
    "    test[f] = test['q1_' + f].astype(np.int8) + test['q2_' + f].astype(np.int8)\n",
    "util.save_feature(train, 'train', ff, 'id')\n",
    "util.save_feature(test, 'test', ff, 'test_id')"
   ]
  }
 ],
 "metadata": {
  "kernelspec": {
   "display_name": "Python 3",
   "language": "python",
   "name": "python3"
  },
  "language_info": {
   "codemirror_mode": {
    "name": "ipython",
    "version": 3
   },
   "file_extension": ".py",
   "mimetype": "text/x-python",
   "name": "python",
   "nbconvert_exporter": "python",
   "pygments_lexer": "ipython3",
   "version": "3.6.0"
  }
 },
 "nbformat": 4,
 "nbformat_minor": 2
}
