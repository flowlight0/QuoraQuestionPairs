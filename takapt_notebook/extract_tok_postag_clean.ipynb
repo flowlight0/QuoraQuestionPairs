{
 "cells": [
  {
   "cell_type": "code",
   "execution_count": 1,
   "metadata": {
    "collapsed": false
   },
   "outputs": [
    {
     "name": "stderr",
     "output_type": "stream",
     "text": [
      "/home/takaya/.pyenv/versions/anaconda3-4.3.0/lib/python3.6/site-packages/sklearn/cross_validation.py:44: DeprecationWarning: This module was deprecated in version 0.18 in favor of the model_selection module into which all the refactored classes and functions are moved. Also note that the interface of the new CV iterators are different from that of this module. This module will be removed in 0.20.\n",
      "  \"This module will be removed in 0.20.\", DeprecationWarning)\n"
     ]
    }
   ],
   "source": [
    "import pandas as pd\n",
    "import numpy as np\n",
    "import nltk\n",
    "from collections import Counter\n",
    "from nltk.corpus import stopwords\n",
    "from sklearn.metrics import log_loss\n",
    "from sklearn.feature_extraction.text import TfidfVectorizer, CountVectorizer\n",
    "from scipy.optimize import minimize\n",
    "stops = set(stopwords.words(\"english\"))\n",
    "import xgboost as xgb\n",
    "from sklearn.cross_validation import train_test_split\n",
    "import multiprocessing\n",
    "import difflib\n",
    "from nltk import SnowballStemmer\n",
    "from nltk import PorterStemmer\n",
    "\n",
    "# train = pd.read_csv('../input/train.csv')#[:1000]\n",
    "# test = pd.read_csv('../input/test.csv')#[:1000]"
   ]
  },
  {
   "cell_type": "code",
   "execution_count": 2,
   "metadata": {
    "collapsed": true
   },
   "outputs": [],
   "source": [
    "train = pd.read_pickle('../feature/train_clean.pkl')#[:100]\n",
    "test = pd.read_pickle('../feature/test_clean.pkl')#[:100]"
   ]
  },
  {
   "cell_type": "code",
   "execution_count": 3,
   "metadata": {
    "collapsed": false
   },
   "outputs": [],
   "source": [
    "def tokenize(data):\n",
    "    return nltk.word_tokenize(data.lower())"
   ]
  },
  {
   "cell_type": "code",
   "execution_count": 4,
   "metadata": {
    "collapsed": false
   },
   "outputs": [],
   "source": [
    "stemmer = SnowballStemmer('english')\n",
    "# stemmer = PorterStemmer()\n",
    "def stem(data):\n",
    "    return [stemmer.stem(word) for word in data if word not in stops]"
   ]
  },
  {
   "cell_type": "code",
   "execution_count": 5,
   "metadata": {
    "collapsed": false
   },
   "outputs": [],
   "source": [
    "train['clean_q1_tokenized'] = train.clean_q1.apply(tokenize)\n",
    "train['clean_q2_tokenized'] = train.clean_q2.apply(tokenize)\n",
    "\n",
    "test['clean_q1_tokenized'] = test.clean_q1.apply(tokenize)\n",
    "test['clean_q2_tokenized'] = test.clean_q2.apply(tokenize)"
   ]
  },
  {
   "cell_type": "code",
   "execution_count": 6,
   "metadata": {
    "collapsed": false
   },
   "outputs": [],
   "source": [
    "train['clean_q1_stem'] = train.clean_q1_tokenized.apply(stem)\n",
    "train['clean_q2_stem'] = train.clean_q2_tokenized.apply(stem)\n",
    "\n",
    "test['clean_q1_stem'] = test.clean_q1_tokenized.apply(stem)\n",
    "test['clean_q2_stem'] = test.clean_q2_tokenized.apply(stem)"
   ]
  },
  {
   "cell_type": "code",
   "execution_count": 7,
   "metadata": {
    "collapsed": false
   },
   "outputs": [],
   "source": [
    "train['clean_q1_pos_tagged'] = train.clean_q1_tokenized.apply(lambda x: nltk.pos_tag(x))\n",
    "train['clean_q2_pos_tagged'] = train.clean_q2_tokenized.apply(lambda x: nltk.pos_tag(x))\n",
    "\n",
    "test['clean_q1_pos_tagged'] = test.clean_q1_tokenized.apply(lambda x: nltk.pos_tag(x))\n",
    "test['clean_q2_pos_tagged'] = test.clean_q2_tokenized.apply(lambda x: nltk.pos_tag(x))"
   ]
  },
  {
   "cell_type": "code",
   "execution_count": 8,
   "metadata": {
    "collapsed": false
   },
   "outputs": [],
   "source": [
    "from nltk.corpus import wordnet\n",
    "\n",
    "lemmatizer = nltk.stem.WordNetLemmatizer()\n",
    "\n",
    "def get_wordnet_pos(pos):\n",
    "    if pos.startswith('J'):\n",
    "        return wordnet.ADJ\n",
    "    elif pos.startswith('V'):\n",
    "        return wordnet.VERB\n",
    "    elif pos.startswith('N'):\n",
    "        return wordnet.NOUN\n",
    "    elif pos.startswith('R'):\n",
    "        return wordnet.ADV\n",
    "    else:\n",
    "        return ''\n",
    "\n",
    "def process_word_pos(word, pos):\n",
    "    p = get_wordnet_pos(pos)\n",
    "    if p:\n",
    "        return lemmatizer.lemmatize(word, p)\n",
    "    else:\n",
    "        return word\n",
    "\n",
    "def lemmatize(pos_tagged):\n",
    "    return [process_word_pos(word, pos) for word, pos in pos_tagged]"
   ]
  },
  {
   "cell_type": "code",
   "execution_count": 9,
   "metadata": {
    "collapsed": false
   },
   "outputs": [],
   "source": [
    "train['clean_q1_lemmatized'] = train.clean_q1_pos_tagged.apply(lemmatize)\n",
    "train['clean_q2_lemmatized'] = train.clean_q2_pos_tagged.apply(lemmatize)\n",
    "\n",
    "test['clean_q1_lemmatized'] = test.clean_q1_pos_tagged.apply(lemmatize)\n",
    "test['clean_q2_lemmatized'] = test.clean_q2_pos_tagged.apply(lemmatize)"
   ]
  },
  {
   "cell_type": "code",
   "execution_count": 10,
   "metadata": {
    "collapsed": false
   },
   "outputs": [],
   "source": [
    "train['clean_q1_lemmatized_stem'] = train.clean_q1_lemmatized.apply(stem)\n",
    "train['clean_q2_lemmatized_stem'] = train.clean_q2_lemmatized.apply(stem)\n",
    "\n",
    "test['clean_q1_lemmatized_stem'] = test.clean_q1_lemmatized.apply(stem)\n",
    "test['clean_q2_lemmatized_stem'] = test.clean_q2_lemmatized.apply(stem)"
   ]
  },
  {
   "cell_type": "code",
   "execution_count": 11,
   "metadata": {
    "collapsed": false
   },
   "outputs": [],
   "source": [
    "features = [\n",
    "    'clean_q1_tokenized',\n",
    "    'clean_q2_tokenized',\n",
    "    'clean_q1_stem',\n",
    "    'clean_q2_stem',\n",
    "    'clean_q1_pos_tagged',\n",
    "    'clean_q2_pos_tagged',\n",
    "    'clean_q1_lemmatized',\n",
    "    'clean_q2_lemmatized',\n",
    "    'clean_q1_lemmatized_stem',\n",
    "    'clean_q2_lemmatized_stem'\n",
    "]"
   ]
  },
  {
   "cell_type": "code",
   "execution_count": 12,
   "metadata": {
    "collapsed": false
   },
   "outputs": [],
   "source": [
    "import util\n",
    "util.save_feature(train, 'train', features, 'id')\n",
    "util.save_feature(test, 'test', features, 'test_id')"
   ]
  }
 ],
 "metadata": {
  "kernelspec": {
   "display_name": "Python 3",
   "language": "python",
   "name": "python3"
  },
  "language_info": {
   "codemirror_mode": {
    "name": "ipython",
    "version": 3
   },
   "file_extension": ".py",
   "mimetype": "text/x-python",
   "name": "python",
   "nbconvert_exporter": "python",
   "pygments_lexer": "ipython3",
   "version": "3.6.0"
  }
 },
 "nbformat": 4,
 "nbformat_minor": 2
}
