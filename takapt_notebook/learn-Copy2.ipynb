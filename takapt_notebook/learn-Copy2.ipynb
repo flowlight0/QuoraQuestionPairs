{
 "cells": [
  {
   "cell_type": "code",
   "execution_count": 1,
   "metadata": {
    "collapsed": false
   },
   "outputs": [
    {
     "name": "stderr",
     "output_type": "stream",
     "text": [
      "/home/takaya/.pyenv/versions/anaconda3-4.3.0/lib/python3.6/site-packages/sklearn/cross_validation.py:44: DeprecationWarning: This module was deprecated in version 0.18 in favor of the model_selection module into which all the refactored classes and functions are moved. Also note that the interface of the new CV iterators are different from that of this module. This module will be removed in 0.20.\n",
      "  \"This module will be removed in 0.20.\", DeprecationWarning)\n"
     ]
    }
   ],
   "source": [
    "import pandas as pd\n",
    "import numpy as np \n",
    "import nltk\n",
    "from collections import Counter\n",
    "from nltk.corpus import stopwords\n",
    "from sklearn.metrics import log_loss\n",
    "from sklearn.feature_extraction.text import TfidfVectorizer, CountVectorizer\n",
    "from scipy.optimize import minimize\n",
    "import xgboost as xgb\n",
    "from sklearn.cross_validation import train_test_split\n",
    "import multiprocessing\n",
    "import difflib"
   ]
  },
  {
   "cell_type": "code",
   "execution_count": 2,
   "metadata": {
    "collapsed": true
   },
   "outputs": [],
   "source": [
    "features = [\n",
    "    #'question1_nouns',\n",
    "    #'question2_nouns',\n",
    "    #'q1_tok_words',\n",
    "    #'q2_tok_words',\n",
    "    'z_noun_match',\n",
    "    'z_len1',\n",
    "    'z_len2',\n",
    "    'z_word_len1',\n",
    "    'z_word_len2',\n",
    "    'z_match_ratio',\n",
    "    'z_word_match',\n",
    "    'z_word_match_idf',\n",
    "    'z_tfidf_sum1',\n",
    "    'z_tfidf_sum2',\n",
    "    'z_tfidf_mean1',\n",
    "    'z_tfidf_mean2',\n",
    "    'z_tfidf_len1',\n",
    "    'z_tfidf_len2',\n",
    "    'z_n_sim',\n",
    "    \n",
    "    'common_words_lemm',\n",
    "    'n_sim_lemm',\n",
    "    'n_sim_lemm_stop',\n",
    "    's2v_sum_dist',\n",
    "    's2v_ave_dist',\n",
    "    \n",
    "    'sum_prob_weight_common_words',\n",
    "    'top_similarity',\n",
    "    'min_sim',\n",
    "    'max_sim',\n",
    "]"
   ]
  },
  {
   "cell_type": "code",
   "execution_count": 3,
   "metadata": {
    "collapsed": true
   },
   "outputs": [],
   "source": [
    "features_6w1h = [\n",
    "#     'q1_what',\n",
    "#     'q2_what',\n",
    "#     'q1_when',\n",
    "#     'q2_when',\n",
    "#     'q1_why',\n",
    "#     'q2_why',\n",
    "#     'q1_where',\n",
    "#     'q2_where',\n",
    "#     'q1_who',\n",
    "#     'q2_who',\n",
    "#     'q1_which',\n",
    "#     'q2_which',\n",
    "#     'q1_how',\n",
    "#     'q2_how',\n",
    "    'what',\n",
    "    'when',\n",
    "    'why',\n",
    "    'where',\n",
    "    'who',\n",
    "    'which',\n",
    "    'how'\n",
    "]\n",
    "\n",
    "features.extend(features_6w1h)"
   ]
  },
  {
   "cell_type": "code",
   "execution_count": 4,
   "metadata": {
    "collapsed": false
   },
   "outputs": [],
   "source": [
    "features_clean = [\n",
    "    'clean_lemm_stem_len1',\n",
    "    'clean_lemm_stem_len2',\n",
    "    'clean_lemm_stem_word_len1',\n",
    "    'clean_lemm_stem_word_len2',\n",
    "    'clean_lemm_stem_match_ratio',\n",
    "    'clean_lemm_stem_word_match',\n",
    "    'clean_lemm_stem_word_match_idf',\n",
    "    'clean_lemm_stem_tfidf_sum1',\n",
    "    'clean_lemm_stem_tfidf_sum2',\n",
    "    'clean_lemm_stem_tfidf_mean1',\n",
    "    'clean_lemm_stem_tfidf_mean2',\n",
    "#     'clean_lemm_stem_tfidf_len1',\n",
    "#     'clean_lemm_stem_tfidf_len2'\n",
    "]\n",
    "\n",
    "features.extend(features_clean)"
   ]
  },
  {
   "cell_type": "code",
   "execution_count": 5,
   "metadata": {
    "collapsed": true
   },
   "outputs": [],
   "source": [
    "def read_data(t, features):\n",
    "    data = pd.read_csv('../input/{}.csv'.format(t))\n",
    "    for feature in features:\n",
    "        data = pd.merge(data, pd.read_pickle('../feature/{}_{}.pkl'.format(t, feature)))\n",
    "    data.fillna(0.0)\n",
    "    return data\n",
    "\n",
    "def read_feature(t, features):\n",
    "    key = 'id' if t == 'train' else 'test'\n",
    "    data = pd.DataFrame(columns=[key])\n",
    "    for feature in features:\n",
    "        data = pd.merge(data, pd.read_pickle('../feature/{}_{}.pkl'.format(t, feature)), how='outer')\n",
    "    return data"
   ]
  },
  {
   "cell_type": "code",
   "execution_count": 6,
   "metadata": {
    "collapsed": false
   },
   "outputs": [],
   "source": [
    "train = read_data('train', features)#[:100]"
   ]
  },
  {
   "cell_type": "code",
   "execution_count": 7,
   "metadata": {
    "collapsed": false
   },
   "outputs": [],
   "source": [
    "def balance_data_size(x, y):\n",
    "    x_pos = x[y == 1]\n",
    "    x_neg = x[y == 0]\n",
    "    y_pos = y[y == 1]\n",
    "    y_neg = y[y == 0]\n",
    "    \n",
    "#     p = 0.17426778573248283\n",
    "    p = 0.165\n",
    "    while len(x_pos) / (len(x_pos) + len(x_neg)) > p:\n",
    "        x_neg = pd.concat([x_neg, x_neg])\n",
    "        y_neg = pd.concat([y_neg, y_neg])\n",
    "    need_negs = int((1 - p) / p * len(x_pos))\n",
    "    x_neg = x_neg[:need_negs]\n",
    "    y_neg = y_neg[:need_negs]\n",
    "  \n",
    "    x = pd.concat([x_pos, x_neg])\n",
    "    y = pd.concat([y_pos, y_neg])\n",
    "    return (x, y)"
   ]
  },
  {
   "cell_type": "code",
   "execution_count": null,
   "metadata": {
    "collapsed": false,
    "scrolled": true
   },
   "outputs": [
    {
     "name": "stdout",
     "output_type": "stream",
     "text": [
      "size ratio\n",
      "0.8\n",
      "0.2\n",
      "duplicate ratio\n",
      "0.369197853026\n",
      "0.40434156175\n",
      "0.228623018131\n",
      "balance\n",
      "0.165000182945\n",
      "0.165000535542\n"
     ]
    }
   ],
   "source": [
    "def split_train_valid_correctly(train):\n",
    "    new_train_ratio = 0.8\n",
    "\n",
    "    def normalize_question(s):\n",
    "        return str(s).lower().strip()\n",
    "\n",
    "    from collections import defaultdict\n",
    "    inverted_index = defaultdict(list)\n",
    "    for index, row in train.iterrows():\n",
    "        inverted_index[normalize_question(row['question1'])].append(index)\n",
    "        inverted_index[normalize_question(row['question2'])].append(index)\n",
    "    len(inverted_index)\n",
    "    \n",
    "    import random\n",
    "    rows = list(train.iterrows())\n",
    "    random.seed(810)\n",
    "    random.shuffle(rows)\n",
    "    new_train_indexes = set()\n",
    "    for index, row in rows:\n",
    "        if len(new_train_indexes) >= len(train) * new_train_ratio:\n",
    "            break\n",
    "\n",
    "        new_train_indexes.update(inverted_index[normalize_question(row['question1'])])\n",
    "        new_train_indexes.update(inverted_index[normalize_question(row['question2'])])\n",
    "\n",
    "    new_valid_indexes = [index for index, row in train.iterrows() if index not in new_train_indexes]\n",
    "\n",
    "    new_train = train.iloc[list(new_train_indexes)]\n",
    "    new_valid = train.iloc[list(new_valid_indexes)]\n",
    "\n",
    "    print('size ratio')\n",
    "    print(len(new_train_indexes) / len(train))\n",
    "    print(len(new_valid_indexes) / len(train))\n",
    "\n",
    "    print('duplicate ratio')\n",
    "    print(sum(train.is_duplicate) / len(train))\n",
    "    print(sum(new_train.is_duplicate) / len(new_train))\n",
    "    print(sum(new_valid.is_duplicate) / len(new_valid))\n",
    "    \n",
    "    return (new_train, new_valid)\n",
    "\n",
    "split_train, split_valid = split_train_valid_correctly(train)\n",
    "\n",
    "x_train, y_train = balance_data_size(split_train[features], split_train['is_duplicate'])\n",
    "x_valid, y_valid = balance_data_size(split_valid[features], split_valid['is_duplicate'])\n",
    "\n",
    "print('balance')\n",
    "print(sum(y_train) / len(y_train))\n",
    "print(sum(y_valid) / len(y_valid))"
   ]
  },
  {
   "cell_type": "code",
   "execution_count": null,
   "metadata": {
    "collapsed": false
   },
   "outputs": [
    {
     "name": "stdout",
     "output_type": "stream",
     "text": [
      "[LibSVM]"
     ]
    }
   ],
   "source": [
    "from sklearn import svm\n",
    "\n",
    "clf = svm.SVC(probability=True, verbose=True)\n",
    "clf.fit(x_train.fillna(0), y_train)"
   ]
  },
  {
   "cell_type": "code",
   "execution_count": null,
   "metadata": {
    "collapsed": false
   },
   "outputs": [],
   "source": [
    "x_train['svm'] = clf.predict_proba(x_train.fillna(0))[:, 1]\n",
    "x_valid['svm'] = clf.predict_proba(x_valid.fillna(0))[:, 1]"
   ]
  },
  {
   "cell_type": "code",
   "execution_count": null,
   "metadata": {
    "collapsed": false,
    "scrolled": false
   },
   "outputs": [],
   "source": [
    "params = {}\n",
    "params[\"objective\"] = \"binary:logistic\"\n",
    "params['eval_metric'] = 'logloss'\n",
    "params[\"eta\"] = 0.03\n",
    "params[\"subsample\"] = 0.7\n",
    "params[\"min_child_weight\"] = 5\n",
    "params[\"colsample_bytree\"] = 0.7\n",
    "params[\"max_depth\"] = 10\n",
    "params[\"silent\"] = 1\n",
    "params[\"seed\"] = 87978979\n",
    "\n",
    "d_train = xgb.DMatrix(x_train, label=y_train)\n",
    "d_valid = xgb.DMatrix(x_valid, label=y_valid)\n",
    "watchlist = [(d_train, 'train'), (d_valid, 'valid')]\n",
    "bst = xgb.train(params, d_train, 10000, watchlist, early_stopping_rounds=50, verbose_eval=100) #change to higher #s"
   ]
  },
  {
   "cell_type": "code",
   "execution_count": null,
   "metadata": {
    "collapsed": false,
    "scrolled": false
   },
   "outputs": [],
   "source": [
    "import matplotlib.pyplot as plt\n",
    "import seaborn as sns\n",
    "%matplotlib inline\n",
    "\n",
    "plt.rcParams['figure.figsize'] = (20.0, 20.0)\n",
    "xgb.plot_importance(bst); plt.show()"
   ]
  },
  {
   "cell_type": "code",
   "execution_count": null,
   "metadata": {
    "collapsed": false
   },
   "outputs": [],
   "source": [
    "test = read_data('test', features)#[:100]\n",
    "sub = pd.DataFrame()\n",
    "sub['test_id'] = test['test_id']\n",
    "sub['is_duplicate'] = bst.predict(xgb.DMatrix(test[features]))\n",
    "\n",
    "sub.to_csv('result.csv', index=False)"
   ]
  },
  {
   "cell_type": "code",
   "execution_count": null,
   "metadata": {
    "collapsed": false
   },
   "outputs": [],
   "source": [
    "ori_train_pred = bst.predict(xgb.DMatrix(train[features]))\n",
    "ori_train_bin_pred = np.where(ori_train_pred < 0.5, 0, 1)\n",
    "print('accuracy: {}'.format(sum(train.is_duplicate == ori_train_bin_pred) / len(train)))"
   ]
  },
  {
   "cell_type": "code",
   "execution_count": null,
   "metadata": {
    "collapsed": false
   },
   "outputs": [],
   "source": [
    "train_pred = bst.predict(xgb.DMatrix(split_train[features]))\n",
    "train_bin_pred = np.where(train_pred < 0.5, 0, 1)\n",
    "print('accuracy: {}'.format(sum(split_train.is_duplicate == train_bin_pred) / len(split_train)))"
   ]
  },
  {
   "cell_type": "code",
   "execution_count": null,
   "metadata": {
    "collapsed": false
   },
   "outputs": [],
   "source": [
    "valid_pred = bst.predict(xgb.DMatrix(split_valid[features]))\n",
    "valid_bin_pred = np.where(valid_pred < 0.5, 0, 1)\n",
    "print('accuracy: {}'.format(sum(split_valid.is_duplicate == valid_bin_pred) / len(split_valid)))"
   ]
  },
  {
   "cell_type": "code",
   "execution_count": null,
   "metadata": {
    "collapsed": false
   },
   "outputs": [],
   "source": [
    "train['pred'] = ori_train_pred\n",
    "\n",
    "def calc_score(row):\n",
    "    return log_loss([row['is_duplicate']], [row['pred']], labels=[0, 1])\n",
    "\n",
    "train['loss'] = train.apply(calc_score, axis=1)"
   ]
  },
  {
   "cell_type": "code",
   "execution_count": null,
   "metadata": {
    "collapsed": false
   },
   "outputs": [],
   "source": [
    "text_features = [\n",
    "    'q1_tokenized',\n",
    "    'q2_tokenized',\n",
    "    'question1_nouns',\n",
    "    'question2_nouns',\n",
    "    'q1_lemmatized',\n",
    "    'q2_lemmatized',\n",
    "    'q1_pos_tagged',\n",
    "    'q2_pos_tagged',\n",
    "    'clean_q1_lemmatized_stem',\n",
    "    'clean_q2_lemmatized_stem'\n",
    "]\n",
    "\n",
    "text_features_train = read_feature('train', text_features)"
   ]
  },
  {
   "cell_type": "code",
   "execution_count": null,
   "metadata": {
    "collapsed": true
   },
   "outputs": [],
   "source": [
    "data = pd.merge(train, text_features_train, how='outer')"
   ]
  },
  {
   "cell_type": "code",
   "execution_count": null,
   "metadata": {
    "collapsed": true
   },
   "outputs": [],
   "source": [
    "pd.set_option(\"display.max_colwidth\", -1)\n",
    "pd.set_option(\"display.max_rows\", 101)"
   ]
  },
  {
   "cell_type": "code",
   "execution_count": null,
   "metadata": {
    "collapsed": false
   },
   "outputs": [],
   "source": [
    "data.sort_values(by='loss', ascending=False)[:1000].to_html('gao.html')"
   ]
  },
  {
   "cell_type": "code",
   "execution_count": null,
   "metadata": {
    "collapsed": false
   },
   "outputs": [],
   "source": [
    "a = data.iloc[361387]"
   ]
  },
  {
   "cell_type": "code",
   "execution_count": null,
   "metadata": {
    "collapsed": false
   },
   "outputs": [],
   "source": [
    "a"
   ]
  }
 ],
 "metadata": {
  "kernelspec": {
   "display_name": "Python 3",
   "language": "python",
   "name": "python3"
  },
  "language_info": {
   "codemirror_mode": {
    "name": "ipython",
    "version": 3
   },
   "file_extension": ".py",
   "mimetype": "text/x-python",
   "name": "python",
   "nbconvert_exporter": "python",
   "pygments_lexer": "ipython3",
   "version": "3.6.0"
  }
 },
 "nbformat": 4,
 "nbformat_minor": 2
}
